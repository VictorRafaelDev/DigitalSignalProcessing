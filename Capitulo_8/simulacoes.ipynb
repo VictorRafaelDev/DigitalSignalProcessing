{
 "cells": [
  {
   "cell_type": "markdown",
   "metadata": {},
   "source": [
    "# Gráficos em Python"
   ]
  },
  {
   "cell_type": "markdown",
   "metadata": {},
   "source": [
    "# Filtros IIR"
   ]
  },
  {
   "cell_type": "code",
   "execution_count": null,
   "metadata": {},
   "outputs": [],
   "source": [
    "import numpy as np\n",
    "import matplotlib.pyplot as plt\n",
    "from scipy.signal import butter, cheby1, cheby2, ellip, freqz, bilinear\n",
    "\n",
    "# Definição dos parâmetros\n",
    "N = 4  # Ordem do filtro\n",
    "Wn = 0.3  # Frequência de corte normalizada (0 a 1, onde 1 é a metade da taxa de amostragem)\n",
    "\n",
    "# Criando filtros IIR\n",
    "b_butter, a_butter = butter(N, Wn, btype='low', analog=False)\n",
    "b_cheby1, a_cheby1 = cheby1(N, 1, Wn, btype='low', analog=False)\n",
    "b_cheby2, a_cheby2 = cheby2(N, 40, Wn, btype='low', analog=False)\n",
    "b_ellip, a_ellip = ellip(N, 1, 40, Wn, btype='low', analog=False)\n",
    "\n",
    "\n",
    "# Cálculo da resposta em frequência\n",
    "def plot_filter_response(b, a, label):\n",
    "    w, h = freqz(b, a)\n",
    "    plt.plot(w / np.pi, 20 * np.log10(abs(h)), label=label)\n",
    "\n",
    "plt.figure(figsize=(10, 6))\n",
    "plot_filter_response(b_butter, a_butter, 'Butterworth')\n",
    "plot_filter_response(b_cheby1, a_cheby1, 'Chebyshev I')\n",
    "plot_filter_response(b_cheby2, a_cheby2, 'Chebyshev II')\n",
    "plot_filter_response(b_ellip, a_ellip, 'Elíptico')\n",
    "\n",
    "plt.title('Comparação das Respostas em Frequência dos Filtros IIR')\n",
    "plt.xlabel('Frequência Normalizada')\n",
    "plt.ylabel('Magnitude (dB)')\n",
    "plt.legend()\n",
    "plt.grid()\n",
    "plt.show()"
   ]
  },
  {
   "cell_type": "markdown",
   "metadata": {},
   "source": [
    "# Transformação Bilinear"
   ]
  },
  {
   "cell_type": "code",
   "execution_count": null,
   "metadata": {},
   "outputs": [],
   "source": [
    "t, H = bilinear([1, 0], [1, 1], fs=2)\n",
    "plt.figure()\n",
    "plt.plot(t, H, label='Transformação Bilinear')\n",
    "plt.title('Demonstração da Transformação Bilinear')\n",
    "plt.xlabel('Frequência Normalizada')\n",
    "plt.ylabel('Magnitude')\n",
    "plt.legend()\n",
    "plt.grid()\n",
    "plt.show()"
   ]
  }
 ],
 "metadata": {
  "kernelspec": {
   "display_name": "base",
   "language": "python",
   "name": "python3"
  },
  "language_info": {
   "codemirror_mode": {
    "name": "ipython",
    "version": 3
   },
   "file_extension": ".py",
   "mimetype": "text/x-python",
   "name": "python",
   "nbconvert_exporter": "python",
   "pygments_lexer": "ipython3",
   "version": "3.11.4"
  }
 },
 "nbformat": 4,
 "nbformat_minor": 2
}
