{
 "cells": [
  {
   "cell_type": "markdown",
   "metadata": {},
   "source": [
    "# Gráficos em Python"
   ]
  },
  {
   "cell_type": "markdown",
   "metadata": {},
   "source": [
    "# Transformada Rápida De Fourier (FFT):"
   ]
  },
  {
   "cell_type": "markdown",
   "metadata": {},
   "source": [
    "Descrição: Gráfico mostrando um sinal no domínio do tempo (antes da FFT) e sua transformação para o domínio da frequência (após a FFT)."
   ]
  },
  {
   "cell_type": "code",
   "execution_count": null,
   "metadata": {},
   "outputs": [],
   "source": [
    "import numpy as np\n",
    "import matplotlib.pyplot as plt\n",
    "\n",
    "# Parâmetros do sinal\n",
    "fs = 1000  # Taxa de amostragem (Hz)\n",
    "t = np.linspace(0, 1, fs, endpoint=False)  # Vetor de tempo\n",
    "f = 5  # Frequência do sinal (Hz)\n",
    "x = 0.5 * np.sin(2 * np.pi * f * t)  # Sinal senoidal\n",
    "\n",
    "# Aplicando a Transformada Rápida de Fourier (FFT)\n",
    "X = np.fft.fft(x)\n",
    "freq = np.fft.fftfreq(len(X), 1/fs)\n",
    "\n",
    "# Normalizando a FFT para obter a magnitude real\n",
    "X_magnitude = np.abs(X) / len(X)\n",
    "\n",
    "# Plotando os gráficos\n",
    "fig, axs = plt.subplots(2, 1, figsize=(12, 8))\n",
    "\n",
    "# Sinal no domínio do tempo\n",
    "axs[0].plot(t, x, label='Sinal original', color='b')\n",
    "axs[0].set_title('Sinal no Domínio do Tempo')\n",
    "axs[0].set_xlabel('Tempo [s]')\n",
    "axs[0].set_ylabel('Amplitude')\n",
    "axs[0].grid(True)\n",
    "axs[0].legend()\n",
    "\n",
    "# Sinal no domínio da frequência\n",
    "axs[1].stem(freq[:len(freq)//2], X_magnitude[:len(X)//2], linefmt='r-', markerfmt='ro', basefmt='k-', use_line_collection=True)\n",
    "axs[1].set_title('Sinal no Domínio da Frequência')\n",
    "axs[1].set_xlabel('Frequência [Hz]')\n",
    "axs[1].set_ylabel('Magnitude Normalizada')\n",
    "axs[1].grid(True)\n",
    "\n",
    "# Ajuste do layout e exibição\n",
    "plt.tight_layout()\n",
    "plt.show()\n"
   ]
  },
  {
   "cell_type": "markdown",
   "metadata": {},
   "source": [
    "# Série de Fourier Discreta (DFS):"
   ]
  },
  {
   "cell_type": "markdown",
   "metadata": {},
   "source": [
    "Descrição: Gráfico mostrando os coeficientes da DFS para uma sequência periódica."
   ]
  },
  {
   "cell_type": "code",
   "execution_count": null,
   "metadata": {},
   "outputs": [],
   "source": [
    "# Parâmetros da sequência periódica\n",
    "N = 16  # Número de pontos\n",
    "n = np.arange(N)\n",
    "x = np.sin(2 * np.pi * n / N)  # Sequência senoidal\n",
    "\n",
    "# Aplicando a Série de Fourier Discreta (DFT)\n",
    "X = np.fft.fft(x)\n",
    "freq = np.fft.fftfreq(N)\n",
    "\n",
    "# Normalizando a FFT para obter a magnitude real\n",
    "X_magnitude = np.abs(X) / N\n",
    "\n",
    "# Plotando os coeficientes da Série de Fourier Discreta\n",
    "plt.figure(figsize=(8, 5))\n",
    "plt.stem(freq, X_magnitude, linefmt='r-', markerfmt='ro', basefmt='k-', use_line_collection=True)\n",
    "plt.title('Coeficientes da Série de Fourier Discreta')\n",
    "plt.xlabel('Frequência Normalizada')\n",
    "plt.ylabel('Magnitude Normalizada')\n",
    "plt.grid(True)\n",
    "plt.show()"
   ]
  },
  {
   "cell_type": "markdown",
   "metadata": {},
   "source": [
    "## Relação com a Transformada Z e DTFT"
   ]
  },
  {
   "cell_type": "markdown",
   "metadata": {},
   "source": [
    "Comparar a representação entre os graficos da DFS e a DTFT para uma sequência"
   ]
  },
  {
   "cell_type": "code",
   "execution_count": null,
   "metadata": {},
   "outputs": [],
   "source": [
    "# Parâmetros do sinal\n",
    "N = 64  # Número de pontos\n",
    "t = np.linspace(0, 1, N, endpoint=False)\n",
    "x = np.sin(2 * np.pi * 5 * t)  # Sinal senoidal\n",
    "\n",
    "# Aplicando a Transformada Rápida de Fourier (FFT)\n",
    "X = np.fft.fft(x)\n",
    "freq = np.fft.fftfreq(N, d=1/N)\n",
    "\n",
    "# Normalizando a FFT para obter a magnitude real\n",
    "X_magnitude = np.abs(X) / N\n",
    "\n",
    "# Criando a figura e subplots\n",
    "fig, axs = plt.subplots(2, 1, figsize=(12, 8))\n",
    "\n",
    "# Sinal no domínio do tempo\n",
    "axs[0].plot(t, x, label='Sinal original', color='b')\n",
    "axs[0].set_title('Sinal no Domínio do Tempo')\n",
    "axs[0].set_xlabel('Tempo [s]')\n",
    "axs[0].set_ylabel('Amplitude')\n",
    "axs[0].grid(True)\n",
    "axs[0].legend()\n",
    "\n",
    "# Representação no domínio da frequência\n",
    "axs[1].stem(freq[:N//2], X_magnitude[:N//2], linefmt='r-', markerfmt='ro', basefmt='k-', use_line_collection=True)\n",
    "axs[1].set_title('Representação da Frequência')\n",
    "axs[1].set_xlabel('Frequência [Hz]')\n",
    "axs[1].set_ylabel('Magnitude Normalizada')\n",
    "axs[1].grid(True)\n",
    "\n",
    "# Ajuste do layout e exibição\n",
    "plt.tight_layout()\n",
    "plt.show()"
   ]
  },
  {
   "cell_type": "markdown",
   "metadata": {},
   "source": [
    "## Interpolação da Transformada Discreta de Fourier (DTFT)"
   ]
  },
  {
   "cell_type": "markdown",
   "metadata": {},
   "source": [
    "Descrição: O grafico demonstra a interpolação da DTFT usando uma função SINC."
   ]
  },
  {
   "cell_type": "code",
   "execution_count": null,
   "metadata": {},
   "outputs": [],
   "source": [
    "# Amostras\n",
    "x = np.linspace(-10, 10, 400)\n",
    "sinc_function = np.sinc(x)\n",
    "\n",
    "# Gráficos\n",
    "plt.figure(figsize=(7, 5))\n",
    "plt.plot(x, sinc_function,  color='b')\n",
    "plt.title('Função Sinc')\n",
    "plt.xlabel('Tempo')\n",
    "plt.ylabel('Amplitude')\n",
    "plt.grid(True)\n",
    "plt.show()"
   ]
  },
  {
   "cell_type": "markdown",
   "metadata": {},
   "source": [
    "## Zero-Padding e Convolução Gráfico de Zero-Padding e Efeito na DFT"
   ]
  },
  {
   "cell_type": "markdown",
   "metadata": {},
   "source": [
    "Descrição: O gráfico ilustra o efeito do zero-padding na DFT de um sinal. O zero-padding é uma tecnica que adiciona zeros ao final de um sinal para aumentar a resolução da transformada discreta de fourier(DFT), permitindo uma análise mais detalhada do espectro de frequencia."
   ]
  },
  {
   "cell_type": "code",
   "execution_count": null,
   "metadata": {},
   "outputs": [],
   "source": [
    "# Parâmetros do sinal\n",
    "N = 64  # Número de pontos\n",
    "t = np.linspace(0, 1, N, endpoint=False)\n",
    "x = np.sin(2 * np.pi * 5 * t)  # Sinal senoidal\n",
    "\n",
    "# Aplicando a Transformada Discreta de Fourier (DFT) sem zero-padding\n",
    "X = np.fft.fft(x)\n",
    "freq = np.fft.fftfreq(N, d=1/N)\n",
    "X_magnitude = np.abs(X) / N\n",
    "\n",
    "# Aplicando a DFT com zero-padding (duplicando o tamanho para maior resolução)\n",
    "N_pad = 2 * N  # Novo tamanho com zero-padding\n",
    "t_pad = np.linspace(0, 1, N_pad, endpoint=False)\n",
    "x_pad = np.pad(x, (0, N_pad - N), 'constant')\n",
    "X_pad = np.fft.fft(x_pad)\n",
    "freq_pad = np.fft.fftfreq(N_pad, d=1/N_pad)\n",
    "X_pad_magnitude = np.abs(X_pad) / N\n",
    "\n",
    "# Criando a figura e subplots\n",
    "fig, axs = plt.subplots(2, 1, figsize=(12, 8))\n",
    "\n",
    "# Representação da DFT sem zero-padding\n",
    "axs[0].stem(freq[:N//2], X_magnitude[:N//2], linefmt='b-', markerfmt='bo', basefmt='k-', use_line_collection=True)\n",
    "axs[0].set_title('DFT sem Zero-Padding')\n",
    "axs[0].set_xlabel('Frequência [Hz]')\n",
    "axs[0].set_ylabel('Magnitude Normalizada')\n",
    "axs[0].grid(True)\n",
    "\n",
    "# Representação da DFT com zero-padding\n",
    "axs[1].stem(freq_pad[:N_pad//2], X_pad_magnitude[:N_pad//2], linefmt='r-', markerfmt='ro', basefmt='k-', use_line_collection=True)\n",
    "axs[1].set_title('DFT com Zero-Padding')\n",
    "axs[1].set_xlabel('Frequência [Hz]')\n",
    "axs[1].set_ylabel('Magnitude Normalizada')\n",
    "axs[1].grid(True)\n",
    "\n",
    "# Ajuste do layout e exibição\n",
    "plt.tight_layout()\n",
    "plt.show()\n"
   ]
  }
 ],
 "metadata": {
  "kernelspec": {
   "display_name": "base",
   "language": "python",
   "name": "python3"
  },
  "language_info": {
   "codemirror_mode": {
    "name": "ipython",
    "version": 3
   },
   "file_extension": ".py",
   "mimetype": "text/x-python",
   "name": "python",
   "nbconvert_exporter": "python",
   "pygments_lexer": "ipython3",
   "version": "3.11.4"
  }
 },
 "nbformat": 4,
 "nbformat_minor": 2
}
