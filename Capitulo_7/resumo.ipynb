{
 "cells": [
  {
   "cell_type": "markdown",
   "metadata": {},
   "source": [
    "---\n",
    "\n",
    "### **Capítulo 7**\n",
    "\n",
    "Os filtros digitais são fundamentais no processamento de sinais, pois permitem a manipulação e melhoria de sinais digitais para diversas aplicações, como telecomunicações, áudio e processamento de imagens. O projeto desses filtros envolve a definição de requisitos, escolha da estrutura e implementação de algoritmos adequados.\n",
    "\n",
    "### Principais Pontos\n",
    "\n",
    "---\n",
    "\n",
    "### 🟢 **Propriedades dos Filtros FIR de Fase Linear**\n",
    "\n",
    "\n",
    "Os **Filtros FIR (Finite Impulse Response)** possuem resposta ao impulso finita e podem apresentar resposta de fase linear, o que significa que todas as frequências sofrem o mesmo atraso, evitando distorção de fase. Existem quatro tipos de filtros FIR de fase linear, classificados de acordo com a simetria da resposta ao impulso e a paridade do comprimento do filtro.\n",
    "\n",
    "---\n",
    "\n",
    "### 🟢 **Técnicas de Projeto de Filtros FIR**\n",
    "\n",
    "Os filtros FIR são projetados por diferentes métodos, incluindo:\n",
    "<p style=\"background-color: #333333; color: #e6c87e; padding: 4px 8px; border-radius: 5px; display: inline-block;\">Método das Janelas (Windowing Method):</p>\n",
    "\n",
    "Essa técnica consiste em aplicar uma função janela à resposta ao impulso ideal para limitar seu comprimento. O método das janelas reduz os efeitos indesejados das descontinuidades abruptas.\n",
    "\n",
    "As principais janelas utilizadas incluem:\n",
    "\n",
    "- Janela Retangular: Apresenta a menor largura de transição, mas tem altas ondulações na banda de rejeição.\n",
    "\n",
    "- Janela Hamming: Reduz as ondulações na banda de rejeição, oferecendo um bom equilíbrio entre largura de transição e atenuação.\n",
    "\n",
    "- Janela Blackman: Proporciona alta atenuação na banda de rejeição, sendo útil quando esse critério é prioritário.\n",
    "<p style=\"background-color: #333333; color: #e6c87e; padding: 4px 8px; border-radius: 5px; display: inline-block;\">Técnica de Amostragem na Frequência (Frequency Sampling Design):</p>\n",
    "\n",
    "Essa abordagem constrói a resposta ao impulso do filtro com base na amostragem da resposta em frequência desejada. Isso permite projetar filtros com características específicas e um melhor controle da resposta em frequência.\n",
    "<p style=\"background-color: #333333; color: #e6c87e; padding: 4px 8px; border-radius: 5px; display: inline-block;\">Técnica de Projeto Ótimo de Equirriple (Optimal Equiripple Design):</p>\n",
    "\n",
    "A técnica de Parks-McClellan minimiza o erro máximo entre a resposta do filtro e a ideal, gerando um comportamento equirripado (oscilações uniformes) na banda de passagem e rejeição. Esse método é eficiente para otimizar o desempenho do filtro, permitindo transições mais acentuadas com menor número de coeficientes.\n",
    "\n",
    "---\n",
    "\n",
    "📌 Conclusão\n",
    "\n",
    "O projeto de filtros FIR envolve diferentes abordagens, cada uma com vantagens específicas. Métodos como a aplicação de janelas, amostragem na frequência e otimização equirripla permitem atender a diferentes requisitos de filtragem. A escolha do método adequado depende das restrições do sistema e da aplicação desejada.\n",
    "\n",
    "\n",
    "\n"
   ]
  }
 ],
 "metadata": {
  "language_info": {
   "name": "python"
  }
 },
 "nbformat": 4,
 "nbformat_minor": 2
}
