{
 "cells": [
  {
   "cell_type": "markdown",
   "metadata": {},
   "source": [
    "# Gráficos em Python"
   ]
  },
  {
   "cell_type": "markdown",
   "metadata": {},
   "source": [
    "# Filtro FIR usando diferentes janelas"
   ]
  },
  {
   "cell_type": "code",
   "execution_count": null,
   "metadata": {},
   "outputs": [],
   "source": [
    "import numpy as np\n",
    "import matplotlib.pyplot as plt\n",
    "from scipy.signal import firwin, freqz, remez\n",
    "\n",
    "# Definição dos parâmetros\n",
    "numtaps = 51  # Número de coeficientes do filtro\n",
    "cutoff = 0.3   # Frequência de corte normalizada (0 a 1, sendo 1 a metade da taxa de amostragem)\n",
    "\n",
    "# Tipos de  janelas\n",
    "windows = ['rectangular', 'hamming', 'blackman']\n",
    "window_functions = {'rectangular': 'boxcar', 'hamming': 'hamming', 'blackman': 'blackman'}\n",
    "\n",
    "plt.figure(figsize=(12, 6))\n",
    "for i, (name, win) in enumerate(window_functions.items()):\n",
    "    fir_coeffs = firwin(numtaps, cutoff, window=win)\n",
    "    w, h = freqz(fir_coeffs)\n",
    "    plt.plot(w / np.pi, 20 * np.log10(abs(h)), label=f'Janela {name}')\n",
    "\n",
    "plt.title('Resposta em Frequência dos Filtros FIR com Diferentes Janelas')\n",
    "plt.xlabel('Frequência Normalizada')\n",
    "plt.ylabel('Magnitude (dB)')\n",
    "plt.legend()\n",
    "plt.grid()\n",
    "plt.show()"
   ]
  },
  {
   "cell_type": "markdown",
   "metadata": {},
   "source": [
    "# Filtro FIR pelo método da amostragem na frequência"
   ]
  },
  {
   "cell_type": "code",
   "execution_count": null,
   "metadata": {},
   "outputs": [],
   "source": [
    "desired = np.concatenate([np.ones(int(cutoff*50)), np.zeros(50 - int(cutoff*50))])\n",
    "freq_sampled = np.fft.ifft(desired)\n",
    "freq_sampled = np.real(freq_sampled[:numtaps])\n",
    "\n",
    "w, h = freqz(freq_sampled)\n",
    "plt.figure()\n",
    "plt.plot(w / np.pi, 20 * np.log10(abs(h)))\n",
    "plt.title('Resposta em Frequência - Amostragem na Frequência')\n",
    "plt.xlabel('Frequência Normalizada')\n",
    "plt.ylabel('Magnitude (dB)')\n",
    "plt.grid()\n",
    "plt.show()"
   ]
  },
  {
   "cell_type": "markdown",
   "metadata": {},
   "source": [
    "# Projeto de filtro equirriplo (Parks-McClellan)"
   ]
  },
  {
   "cell_type": "code",
   "execution_count": null,
   "metadata": {},
   "outputs": [],
   "source": [
    "bands = [0, 0.3, 0.4, 1]  # Bandas de frequência normalizadas\n",
    "desired = [1, 0]  # Ganho desejado em cada banda\n",
    "fir_equiripple = remez(numtaps, bands, desired, fs=2)\n",
    "\n",
    "w, h = freqz(fir_equiripple)\n",
    "plt.figure()\n",
    "plt.plot(w / np.pi, 20 * np.log10(abs(h)))\n",
    "plt.title('Resposta em Frequência - Filtro Equirriple')\n",
    "plt.xlabel('Frequência Normalizada')\n",
    "plt.ylabel('Magnitude (dB)')\n",
    "plt.grid()\n",
    "plt.show()"
   ]
  }
 ],
 "metadata": {
  "kernelspec": {
   "display_name": "base",
   "language": "python",
   "name": "python3"
  },
  "language_info": {
   "codemirror_mode": {
    "name": "ipython",
    "version": 3
   },
   "file_extension": ".py",
   "mimetype": "text/x-python",
   "name": "python",
   "nbconvert_exporter": "python",
   "pygments_lexer": "ipython3",
   "version": "3.11.4"
  }
 },
 "nbformat": 4,
 "nbformat_minor": 2
}
