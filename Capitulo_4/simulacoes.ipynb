{
 "cells": [
  {
   "cell_type": "markdown",
   "metadata": {},
   "source": [
    "# Gráficos em Python"
   ]
  },
  {
   "cell_type": "markdown",
   "metadata": {},
   "source": [
    "# Transformada Z de Sequências:"
   ]
  },
  {
   "cell_type": "code",
   "execution_count": null,
   "metadata": {},
   "outputs": [],
   "source": [
    "import numpy as np\n",
    "import matplotlib.pyplot as plt\n",
    "\n",
    "#Exemplo 1():\n",
    "n = np.array([0, 1, 2, 3])\n",
    "x = np.array([1, 2, 3, 4])\n",
    "plt.stem(n, x, basefmt=\" \", use_line_collection=True)\n",
    "plt.title(\"Gráfico de x(n) = {1, 2, 3, 4}\")\n",
    "plt.xlabel(\"n\")\n",
    "plt.ylabel(\"x(n)\")\n",
    "plt.grid()\n",
    "plt.show()\n"
   ]
  },
  {
   "cell_type": "code",
   "execution_count": null,
   "metadata": {},
   "outputs": [],
   "source": [
    "#Exemplo 2():\n",
    "z = np.linspace(0.1, 2, 100)  \n",
    "a = 2\n",
    "X_z = 1 / (1 - a / z)\n",
    "\n",
    "plt.plot(z, np.abs(X_z))\n",
    "plt.title('Transformada Z de ( x(n) = 2^n u(n) )')\n",
    "plt.xlabel('Re(z)')\n",
    "plt.ylabel('Magnitude')\n",
    "plt.grid(True)\n",
    "plt.show()"
   ]
  },
  {
   "cell_type": "code",
   "execution_count": null,
   "metadata": {},
   "outputs": [],
   "source": [
    "#Exemplo 3():\n",
    "theta = np.linspace(0, 2 * np.pi, 100)\n",
    "a = 1\n",
    "X_z = a / (1 - 2 * np.exp(-1j * theta) + 1)\n",
    "\n",
    "plt.plot(theta, np.abs(X_z))\n",
    "plt.title('Transformada Z de ( x(n) = \\sin(\\pi n / 4) u(n) )')\n",
    "plt.xlabel('θ')\n",
    "plt.ylabel('Magnitude')\n",
    "plt.grid(True)\n",
    "plt.show()"
   ]
  },
  {
   "cell_type": "markdown",
   "metadata": {},
   "source": [
    "# Relação entre \\( Y(z) \\) e \\( X(z) \\)"
   ]
  },
  {
   "cell_type": "code",
   "execution_count": null,
   "metadata": {},
   "outputs": [],
   "source": [
    "z = np.linspace(0.1, 2, 100)\n",
    "X_z = z / (z - 2)\n",
    "Y_z = np.sqrt(z) / (np.sqrt(z) - 2)\n",
    "\n",
    "plt.plot(z, np.abs(Y_z), label='Transformada de x(n/2)')\n",
    "plt.plot(z, np.abs(X_z), label='Transformada de x(n) ')\n",
    "plt.title('Transformada Z de Sequências')\n",
    "plt.xlabel('Re(z)')\n",
    "plt.ylabel('Magnitude')\n",
    "plt.legend()\n",
    "plt.grid(True)\n",
    "plt.show()"
   ]
  },
  {
   "cell_type": "markdown",
   "metadata": {},
   "source": [
    "# Propriedades da Transformada Z : Convolução"
   ]
  },
  {
   "cell_type": "code",
   "execution_count": null,
   "metadata": {},
   "outputs": [],
   "source": [
    "from scipy.signal import convolve\n",
    "\n",
    "x = np.array([1, 2, 3])\n",
    "h = np.array([1, 1])\n",
    "\n",
    "y = convolve(x, h, mode='full')\n",
    "n = np.arange(len(y))\n",
    "\n",
    "plt.stem(n, y, use_line_collection=True)\n",
    "plt.title('Convolução de \\( x(n) \\) e \\( h(n) \\)')\n",
    "plt.xlabel('n')\n",
    "plt.ylabel('y(n)')\n",
    "plt.grid(True)\n",
    "plt.show()"
   ]
  },
  {
   "cell_type": "markdown",
   "metadata": {},
   "source": [
    "# Partes Real e Imaginária de \\( H(z) = \\frac{z}{z - a} \\)"
   ]
  },
  {
   "cell_type": "code",
   "execution_count": null,
   "metadata": {},
   "outputs": [],
   "source": [
    "# Valores para 'a' e para 'z' no plano complexo\n",
    "a = 0.5  # Pode ser ajustado para outras análises\n",
    "x = np.linspace(-2, 2, 400)  # Eixo real\n",
    "y = np.linspace(-2, 2, 400)  # Eixo imaginário\n",
    "X, Y = np.meshgrid(x, y)\n",
    "Z = X + 1j * Y\n",
    "\n",
    "# Função H(z) = z / (z - a)\n",
    "H = Z / (Z - a)\n",
    "\n",
    "# Partes real e imaginária de H(z)\n",
    "H_real = np.real(H)\n",
    "H_imag = np.imag(H)\n",
    "\n",
    "# Plotando os gráficos\n",
    "fig, axes = plt.subplots(1, 2, figsize=(14, 6))\n",
    "\n",
    "# Gráfico da parte real\n",
    "contour_real = axes[0].contourf(X, Y, H_real, levels=50, cmap='coolwarm')\n",
    "axes[0].set_title(\"Parte Real de H(z)\", fontsize=14)\n",
    "axes[0].set_xlabel(\"Re(z)\", fontsize=12)\n",
    "axes[0].set_ylabel(\"Im(z)\", fontsize=12)\n",
    "fig.colorbar(contour_real, ax=axes[0], orientation='vertical')\n",
    "\n",
    "# Gráfico da parte imaginária\n",
    "contour_imag = axes[1].contourf(X, Y, H_imag, levels=50, cmap='viridis')\n",
    "axes[1].set_title(\"Parte Imaginária de H(z)\", fontsize=14)\n",
    "axes[1].set_xlabel(\"Re(z)\", fontsize=12)\n",
    "axes[1].set_ylabel(\"Im(z)\", fontsize=12)\n",
    "fig.colorbar(contour_imag, ax=axes[1], orientation='vertical')\n",
    "\n",
    "# Ajustando layout\n",
    "plt.tight_layout()\n",
    "plt.show()"
   ]
  },
  {
   "cell_type": "markdown",
   "metadata": {},
   "source": [
    "## Sequências e Operações: Multiplicação por uma Constante"
   ]
  },
  {
   "cell_type": "code",
   "execution_count": null,
   "metadata": {},
   "outputs": [],
   "source": [
    "a = 0.5  # Pode ser ajustado para outras análises\n",
    "x = np.linspace(-2, 2, 400)  # Eixo real\n",
    "y = np.linspace(-2, 2, 400)  # Eixo imaginário\n",
    "X, Y = np.meshgrid(x, y)\n",
    "Z = X + 1j * Y\n",
    "\n",
    "# Função H(z) = z / (z - a)\n",
    "H = Z / (Z - a)\n",
    "\n",
    "# Partes real e imaginária de H(z)\n",
    "H_real = np.real(H)\n",
    "H_imag = np.imag(H)\n",
    "\n",
    "# Plotando os gráficos\n",
    "fig, axes = plt.subplots(1, 2, figsize=(14, 6))\n",
    "\n",
    "# Gráfico da parte real\n",
    "contour_real = axes[0].contourf(X, Y, H_real, levels=50, cmap='coolwarm')\n",
    "axes[0].set_title(\"Parte Real de H(z)\", fontsize=14)\n",
    "axes[0].set_xlabel(\"Re(z)\", fontsize=12)\n",
    "axes[0].set_ylabel(\"Im(z)\", fontsize=12)\n",
    "fig.colorbar(contour_real, ax=axes[0], orientation='vertical')\n",
    "\n",
    "# Gráfico da parte imaginária\n",
    "contour_imag = axes[1].contourf(X, Y, H_imag, levels=50, cmap='viridis')\n",
    "axes[1].set_title(\"Parte Imaginária de H(z)\", fontsize=14)\n",
    "axes[1].set_xlabel(\"Re(z)\", fontsize=12)\n",
    "axes[1].set_ylabel(\"Im(z)\", fontsize=12)\n",
    "fig.colorbar(contour_imag, ax=axes[1], orientation='vertical')\n",
    "\n",
    "# Ajustando layout\n",
    "plt.tight_layout()\n",
    "plt.show()"
   ]
  },
  {
   "cell_type": "markdown",
   "metadata": {},
   "source": [
    "# Propriedades da Transformada Z : Deconvolução"
   ]
  },
  {
   "cell_type": "code",
   "execution_count": null,
   "metadata": {},
   "outputs": [],
   "source": [
    "from scipy.signal import deconvolve\n",
    "\n",
    "# Sequências originais\n",
    "x = np.array([1, 2, 3])  # Sequência original\n",
    "h = np.array([1, 1])     # Resposta ao impulso\n",
    "\n",
    "# Gerar y(n) através da convolução\n",
    "y = np.convolve(x, h)\n",
    "\n",
    "# Aplicar deconvolução\n",
    "x_recovered, remainder = deconvolve(y, h)\n",
    "\n",
    "# Índices de tempo para as sequências\n",
    "n = np.arange(len(x_recovered))\n",
    "\n",
    "# Verificar o resultado\n",
    "print(f\"y(n): {y}\")\n",
    "print(f\"x_recovered: {x_recovered}\")\n",
    "print(f\"Resto da deconvolução: {remainder}\")\n",
    "\n",
    "# Plotando a sequência recuperada\n",
    "plt.stem(n, x_recovered, use_line_collection=True)\n",
    "plt.title('Deconvolução de \\( y(n) \\) e \\( h(n) \\)')\n",
    "plt.xlabel('n')\n",
    "plt.ylabel('x(n) Recuperado')\n",
    "plt.grid(True)\n",
    "plt.show()"
   ]
  },
  {
   "cell_type": "markdown",
   "metadata": {},
   "source": [
    "# Resposta do Sistema: Função Degrau"
   ]
  },
  {
   "cell_type": "code",
   "execution_count": null,
   "metadata": {},
   "outputs": [],
   "source": [
    "from scipy.signal import lfilter, dlti, dimpulse\n",
    "\n",
    "# Coeficientes do numerador e denominador do sistema\n",
    "b = [0.5, 0.5]  # Numerador (coeficientes de H(z))\n",
    "a = [1, -0.8]   # Denominador (coeficientes de H(z))\n",
    "\n",
    "# Gerar a resposta ao impulso usando o método dimpulse\n",
    "system = dlti(b, a)  # Define o sistema discreto\n",
    "n, h = dimpulse(system, n=20)  # Resposta ao impulso para 20 amostras\n",
    "\n",
    "# Converter a saída para arrays\n",
    "n = np.squeeze(n)\n",
    "h = np.squeeze(h)\n",
    "\n",
    "# Plotar a resposta ao impulso\n",
    "plt.stem(n, h, use_line_collection=True)\n",
    "plt.title('Resposta ao Impulso \\( h(n) \\)')\n",
    "plt.xlabel('n')\n",
    "plt.ylabel('Amplitude')\n",
    "plt.grid(True)\n",
    "plt.show()"
   ]
  },
  {
   "cell_type": "markdown",
   "metadata": {},
   "source": [
    "## Comportamento do Sistema: Equações Diferenciais "
   ]
  },
  {
   "cell_type": "code",
   "execution_count": null,
   "metadata": {},
   "outputs": [],
   "source": [
    "from scipy.signal import lfilter\n",
    "\n",
    "# Coeficientes da equação de diferenças\n",
    "a = [1, -0.8]  # Coeficientes do lado de Y (denominador)\n",
    "b = [0.5, 0.5]  # Coeficientes do lado de X (numerador)\n",
    "\n",
    "# Entrada do sistema (degrau unitário)\n",
    "n = np.arange(0, 20)\n",
    "x = np.ones_like(n)\n",
    "\n",
    "# Resposta do sistema usando a equação de diferenças\n",
    "y = lfilter(b, a, x)\n",
    "\n",
    "# Plotar o resultado\n",
    "plt.stem(n, y, use_line_collection=True)\n",
    "plt.title('Resposta do Sistema por Equações Diferenciais')\n",
    "plt.xlabel('n')\n",
    "plt.ylabel('y(n)')\n",
    "plt.grid(True)\n",
    "plt.show()"
   ]
  }
 ],
 "metadata": {
  "kernelspec": {
   "display_name": "base",
   "language": "python",
   "name": "python3"
  },
  "language_info": {
   "codemirror_mode": {
    "name": "ipython",
    "version": 3
   },
   "file_extension": ".py",
   "mimetype": "text/x-python",
   "name": "python",
   "nbconvert_exporter": "python",
   "pygments_lexer": "ipython3",
   "version": "3.11.4"
  }
 },
 "nbformat": 4,
 "nbformat_minor": 2
}
