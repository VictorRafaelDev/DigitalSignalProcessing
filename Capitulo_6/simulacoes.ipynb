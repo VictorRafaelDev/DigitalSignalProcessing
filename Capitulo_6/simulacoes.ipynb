{
 "cells": [
  {
   "cell_type": "markdown",
   "metadata": {},
   "source": [
    "# Gráficos em Python"
   ]
  },
  {
   "cell_type": "markdown",
   "metadata": {},
   "source": [
    "# Estruturas de Filtros IRR"
   ]
  },
  {
   "cell_type": "code",
   "execution_count": null,
   "metadata": {},
   "outputs": [],
   "source": [
    "import numpy as np\n",
    "import scipy.signal as signal\n",
    "import matplotlib.pyplot as plt\n",
    "\n",
    "def plot_iir_filter_response(filter_type='low', order=4, cutoff=0.2, fs=1.0):\n",
    "    # Projeto do filtro IIR Butterworth\n",
    "    b, a = signal.butter(order, cutoff, btype=filter_type, fs=fs)\n",
    "    \n",
    "    # Calcular a resposta em frequência\n",
    "    w, h = signal.freqz(b, a, worN=1024)\n",
    "    \n",
    "    # Converter frequência para escala normalizada\n",
    "    freq = w * fs / (2 * np.pi)\n",
    "    \n",
    "    # Plot da resposta em magnitude e fase\n",
    "    fig, ax1 = plt.subplots(2, 1, figsize=(8, 6))\n",
    "    \n",
    "    ax1[0].plot(freq, 20 * np.log10(abs(h)), 'b')\n",
    "    ax1[0].set_title(\"Resposta em Frequência do Filtro IIR\")\n",
    "    ax1[0].set_ylabel(\"Magnitude (dB)\")\n",
    "    ax1[0].grid()\n",
    "    \n",
    "    ax1[1].plot(freq, np.angle(h), 'r')\n",
    "    ax1[1].set_ylabel(\"Fase (radianos)\")\n",
    "    ax1[1].set_xlabel(\"Frequência (Hz)\")\n",
    "    ax1[1].grid()\n",
    "    \n",
    "    plt.tight_layout()\n",
    "    plt.show()\n",
    "\n",
    "# Exemplo: Filtro passa-baixa de ordem 4 com frequência de corte 0.2 * Fs\n",
    "plot_iir_filter_response(filter_type='low', order=4, cutoff=0.2, fs=1.0)"
   ]
  },
  {
   "cell_type": "markdown",
   "metadata": {},
   "source": [
    "# Estruturas em Cascata e Paralelas"
   ]
  },
  {
   "cell_type": "code",
   "execution_count": null,
   "metadata": {},
   "outputs": [],
   "source": [
    "def cascade_iir_filters(filter_specs, fs=2.0):\n",
    "    h_total = np.ones(1024, dtype=complex)\n",
    "    w = None\n",
    "    for spec in filter_specs:\n",
    "        b, a = signal.butter(spec['order'], spec['cutoff'], btype=spec['type'], fs=fs)\n",
    "        w, h = signal.freqz(b, a, worN=1024)\n",
    "        h_total *= h\n",
    "    \n",
    "    freq = w * fs / (2 * np.pi)\n",
    "    \n",
    "    plt.figure(figsize=(8, 4))\n",
    "    plt.plot(freq, 20 * np.log10(abs(h_total)), 'b')\n",
    "    plt.title(\"Resposta em Frequência - Estrutura em Cascata\")\n",
    "    plt.ylabel(\"Magnitude (dB)\")\n",
    "    plt.xlabel(\"Frequência (Hz)\")\n",
    "    plt.grid()\n",
    "    plt.show()\n",
    "\n",
    "def parallel_iir_filters(filter_specs, fs=2.0):\n",
    "    h_total = np.zeros(1024, dtype=complex)\n",
    "    w = None\n",
    "    for spec in filter_specs:\n",
    "        b, a = signal.butter(spec['order'], spec['cutoff'], btype=spec['type'], fs=fs)\n",
    "        w, h = signal.freqz(b, a, worN=1024)\n",
    "        h_total += h\n",
    "    \n",
    "    freq = w * fs / (2 * np.pi)\n",
    "    \n",
    "    plt.figure(figsize=(8, 4))\n",
    "    plt.plot(freq, 20 * np.log10(abs(h_total)), 'r')\n",
    "    plt.title(\"Resposta em Frequência - Estrutura Paralela\")\n",
    "    plt.ylabel(\"Magnitude (dB)\")\n",
    "    plt.xlabel(\"Frequência (Hz)\")\n",
    "    plt.grid()\n",
    "    plt.show()\n",
    "\n",
    "# Exemplo de uso: Estrutura em cascata e paralela\n",
    "filter_specs = [\n",
    "    {'type': 'low', 'order': 2, 'cutoff': 0.2},\n",
    "    {'type': 'high', 'order': 2, 'cutoff': 0.5}\n",
    "]\n",
    "cascade_iir_filters(filter_specs)\n",
    "parallel_iir_filters(filter_specs)"
   ]
  },
  {
   "cell_type": "markdown",
   "metadata": {},
   "source": [
    "# Estruturas de Filtros Lattice"
   ]
  },
  {
   "cell_type": "code",
   "execution_count": null,
   "metadata": {},
   "outputs": [],
   "source": [
    "def lattice_iir_filter(coeffs, fs=2.0):\n",
    "    w, h = signal.freqz(coeffs, worN=1024)\n",
    "    freq = w * fs / (2 * np.pi)\n",
    "    \n",
    "    plt.figure(figsize=(8, 4))\n",
    "    plt.plot(freq, 20 * np.log10(abs(h)), 'g')\n",
    "    plt.title(\"Resposta em Frequência - Filtro Lattice\")\n",
    "    plt.ylabel(\"Magnitude (dB)\")\n",
    "    plt.xlabel(\"Frequência (Hz)\")\n",
    "    plt.grid()\n",
    "    plt.show()\n",
    "    \n",
    "lattice_coeffs = [1.0, -0.5, 0.25]\n",
    "lattice_iir_filter(lattice_coeffs)\n"
   ]
  },
  {
   "cell_type": "markdown",
   "metadata": {},
   "source": [
    "# Eficiencia Computacional"
   ]
  },
  {
   "cell_type": "code",
   "execution_count": null,
   "metadata": {},
   "outputs": [],
   "source": [
    "numFIROps = 100\n",
    "numIIROps = 150\n",
    "numCascadeOps = 180\n",
    "numParallelOps = 160\n",
    "numLatticeOps = 140\n",
    "\n",
    "types = ['FIR', 'IIR', 'Cascade IIR', 'Parallel IIR', 'Lattice IIR']\n",
    "complexity = [numFIROps, numIIROps, numCascadeOps, numParallelOps, numLatticeOps]\n",
    "\n",
    "plt.figure(figsize=(8, 6))\n",
    "plt.bar(types, complexity, color=['blue', 'orange', 'green', 'red', 'purple'])\n",
    "\n",
    "plt.title('Computational Complexity Comparison')\n",
    "plt.xlabel('Filter Type')\n",
    "plt.ylabel('Number of Operations')\n",
    "plt.grid(True, linestyle='--', alpha=0.7)\n",
    "\n",
    "plt.show()\n"
   ]
  },
  {
   "cell_type": "markdown",
   "metadata": {},
   "source": [
    "# Efeitos da Quantização e Erros"
   ]
  },
  {
   "cell_type": "markdown",
   "metadata": {},
   "source": [
    "Abaixo uma simulação de porque filtros implementados em hardware de baixa precisão (como DSPs com ponto fixo) podem ter respostas diferentes dos projetados teoricamente, exigindo ajustes nos coeficientes ou técnicas como quantização otimizada para minimizar esses efeitos."
   ]
  },
  {
   "cell_type": "code",
   "execution_count": null,
   "metadata": {},
   "outputs": [],
   "source": [
    "# Simulação de erro de truncamento e arredondamento\n",
    "true_value = np.linspace(0, 1, 100)\n",
    "truncated_value = np.round(true_value, 1)  # Simulação de truncamento\n",
    "rounded_value = np.round(true_value, 2)  # Simulação de arredondamento\n",
    "\n",
    "truncation_error = np.abs(true_value - truncated_value)\n",
    "rounding_error = np.abs(true_value - rounded_value)\n",
    "\n",
    "plt.figure(figsize=(8, 6))\n",
    "plt.plot(true_value, truncation_error, label='Erro de Truncamento', color='red')\n",
    "plt.plot(true_value, rounding_error, label='Erro de Arredondamento', color='blue')\n",
    "\n",
    "plt.title('Erro de Truncamento e Arredondamento')\n",
    "plt.xlabel('Valor Real')\n",
    "plt.ylabel('Erro Absoluto')\n",
    "plt.legend()\n",
    "plt.grid(True, linestyle='--', alpha=0.7)\n",
    "\n",
    "plt.show()"
   ]
  }
 ],
 "metadata": {
  "kernelspec": {
   "display_name": "base",
   "language": "python",
   "name": "python3"
  },
  "language_info": {
   "codemirror_mode": {
    "name": "ipython",
    "version": 3
   },
   "file_extension": ".py",
   "mimetype": "text/x-python",
   "name": "python",
   "nbconvert_exporter": "python",
   "pygments_lexer": "ipython3",
   "version": "3.11.4"
  }
 },
 "nbformat": 4,
 "nbformat_minor": 2
}
