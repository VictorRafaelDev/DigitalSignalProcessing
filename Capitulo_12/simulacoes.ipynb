{
 "cells": [
  {
   "cell_type": "markdown",
   "metadata": {},
   "source": [
    "# Gráficos em Python"
   ]
  },
  {
   "cell_type": "markdown",
   "metadata": {},
   "source": [
    "# PCM - Modulação por Código de Pulsos"
   ]
  },
  {
   "cell_type": "code",
   "execution_count": null,
   "metadata": {},
   "outputs": [],
   "source": [
    "import numpy as np\n",
    "import matplotlib.pyplot as plt\n",
    "from scipy.signal import lfilter, butter, hilbert\n",
    "from scipy.io.wavfile import write\n",
    "\n",
    "# 1. PCM - Modulação por Código de Pulsos\n",
    "fs = 8000  # Taxa de amostragem\n",
    "T = 1  # Duração do sinal em segundos\n",
    "t = np.linspace(0, T, fs*T, endpoint=False)\n",
    "sinal = np.sin(2 * np.pi * 5 * t)  # Sinal de teste\n",
    "\n",
    "niveis = 16  # Número de níveis de quantização\n",
    "sinal_quantizado = np.round((sinal + 1) * (niveis/2)) / (niveis/2) - 1\n",
    "\n",
    "plt.figure()\n",
    "plt.plot(t[:100], sinal[:100], label=\"Original\")\n",
    "plt.step(t[:100], sinal_quantizado[:100], label=\"Quantizado\", where='mid')\n",
    "plt.title(\"PCM - Modulação por Código de Pulsos\")\n",
    "plt.legend()\n",
    "plt.show()"
   ]
  },
  {
   "cell_type": "markdown",
   "metadata": {},
   "source": [
    "# DPCM - PCM Diferencial"
   ]
  },
  {
   "cell_type": "code",
   "execution_count": null,
   "metadata": {},
   "outputs": [],
   "source": [
    "sinal_diferenca = np.diff(sinal_quantizado, prepend=sinal_quantizado[0])\n",
    "plt.figure()\n",
    "plt.plot(t[:100], sinal_diferenca[:100], label=\"DPCM\")\n",
    "plt.title(\"DPCM - PCM Diferencial\")\n",
    "plt.legend()\n",
    "plt.show()"
   ]
  },
  {
   "cell_type": "markdown",
   "metadata": {},
   "source": [
    "# LPC - Codificação Preditiva Linear"
   ]
  },
  {
   "cell_type": "code",
   "execution_count": null,
   "metadata": {},
   "outputs": [],
   "source": [
    "from scipy.linalg import toeplitz, solve\n",
    "\n",
    "def lpc(sinal, ordem=2):\n",
    "    r = np.correlate(sinal, sinal, mode='full')[len(sinal)-1:]\n",
    "    R = toeplitz(r[:ordem])\n",
    "    a = solve(R, -r[1:ordem+1])\n",
    "    return np.concatenate(([1], a))\n",
    "\n",
    "coeficientes = lpc(sinal, ordem=2)\n",
    "plt.figure()\n",
    "plt.stem(coeficientes)\n",
    "plt.title(\"Coeficientes LPC\")\n",
    "plt.show()"
   ]
  },
  {
   "cell_type": "markdown",
   "metadata": {},
   "source": [
    "# Geração de Sinais DTMF"
   ]
  },
  {
   "cell_type": "code",
   "execution_count": null,
   "metadata": {},
   "outputs": [],
   "source": [
    "frequencias = [(697, 1209), (770, 1336), (852, 1477), (941, 1633)]  # Exemplo\n",
    "fs = 8000  # Taxa de amostragem\n",
    "t = np.linspace(0, 0.5, int(0.5 * fs), endpoint=False)\n",
    "dtmf_signal = np.sin(2 * np.pi * frequencias[0][0] * t) + np.sin(2 * np.pi * frequencias[0][1] * t)\n",
    "\n",
    "plt.figure()\n",
    "plt.plot(t[:500], dtmf_signal[:500])\n",
    "plt.title(\"Sinal DTMF\")\n",
    "plt.show()"
   ]
  },
  {
   "cell_type": "markdown",
   "metadata": {},
   "source": [
    "# Modulação Digital Binária (ASK)"
   ]
  },
  {
   "cell_type": "code",
   "execution_count": null,
   "metadata": {},
   "outputs": [],
   "source": [
    "bits = np.random.randint(0, 2, 100)\n",
    "t = np.linspace(0, 1, 100)\n",
    "portadora = np.sin(2 * np.pi * 5 * t)\n",
    "ask_signal = bits * portadora\n",
    "\n",
    "plt.figure()\n",
    "plt.plot(t, ask_signal)\n",
    "plt.title(\"Modulação ASK\")\n",
    "plt.show()"
   ]
  },
  {
   "cell_type": "markdown",
   "metadata": {},
   "source": [
    "# Espectro Espalhado FHSS"
   ]
  },
  {
   "cell_type": "code",
   "execution_count": 6,
   "metadata": {},
   "outputs": [
    {
     "data": {
      "image/png": "[encoded data removed]",
      "text/plain": [
       "<Figure size 640x480 with 1 Axes>"
      ]
     },
     "metadata": {},
     "output_type": "display_data"
    }
   ],
   "source": [
    "frequencias_hopping = [1000, 2000, 3000, 4000]\n",
    "fs = 8000\n",
    "sinal_hopping = np.zeros(fs)\n",
    "for i in range(4):\n",
    "    f = frequencias_hopping[i]\n",
    "    t = np.linspace(i/4, (i+1)/4, fs//4, endpoint=False)\n",
    "    sinal_hopping[i*(fs//4):(i+1)*(fs//4)] = np.sin(2 * np.pi * f * t)\n",
    "\n",
    "plt.figure()\n",
    "plt.plot(sinal_hopping)\n",
    "plt.title(\"Espectro Espalhado - FHSS\")\n",
    "plt.show()\n"
   ]
  }
 ],
 "metadata": {
  "kernelspec": {
   "display_name": "base",
   "language": "python",
   "name": "python3"
  },
  "language_info": {
   "codemirror_mode": {
    "name": "ipython",
    "version": 3
   },
   "file_extension": ".py",
   "mimetype": "text/x-python",
   "name": "python",
   "nbconvert_exporter": "python",
   "pygments_lexer": "ipython3",
   "version": "3.11.4"
  }
 },
 "nbformat": 4,
 "nbformat_minor": 2
}
